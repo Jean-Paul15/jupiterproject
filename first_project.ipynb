{
  "metadata": {
    "kernelspec": {
      "name": "python",
      "display_name": "Python (Pyodide)",
      "language": "python"
    },
    "language_info": {
      "name": ""
    }
  },
  "nbformat_minor": 4,
  "nbformat": 4,
  "cells": [
    {
      "cell_type": "markdown",
      "source": "# Mon Projet de Science des Données",
      "metadata": {}
    },
    {
      "cell_type": "markdown",
      "source": "## Introduction\nCe notebook présente une exploration des langages et outils utilisés en science des données.\n",
      "metadata": {}
    },
    {
      "cell_type": "markdown",
      "source": "## Langages en Data Science\n- Python\n- R\n- SQL\n- Julia\n",
      "metadata": {}
    },
    {
      "cell_type": "markdown",
      "source": "## Bibliothèques\n- NumPy\n- Pandas\n- Matplotlib\n- Scikit-learn\n",
      "metadata": {}
    },
    {
      "cell_type": "markdown",
      "source": "## Outils en Data Science\n\n| Outil          | Description                          |\n|----------------|--------------------------------------|\n| Jupyter Notebook| Interface pour créer des notebooks  |\n| RStudio    |  environnement de développement pour R |\n| Anaconda       | Distribution pour Python  et R   |\n\n",
      "metadata": {}
    },
    {
      "cell_type": "markdown",
      "source": "## Expressions Arithmétiques\n- Soustraction : `10 - 2 = 8`\n- Addition : ` 7+ 3 = 10`\n- Multiplication : `3 * 1 = 3`\n- Division : `14 / 2 = 7`\n",
      "metadata": {}
    },
    {
      "cell_type": "code",
      "source": "# Multiplication et Addition\na = 5\nb = 3\nmultiplication = a * b\naddition = a + b\nprint(\"Multiplication:\", multiplication)\nprint(\"Addition:\", addition)\n",
      "metadata": {
        "trusted": true
      },
      "outputs": [],
      "execution_count": null
    },
    {
      "cell_type": "code",
      "source": "minutes = 120\nheures = minutes / 60\nprint(f\"{minutes} = {heures} heures.\")\n",
      "metadata": {
        "trusted": true
      },
      "outputs": [],
      "execution_count": null
    },
    {
      "cell_type": "markdown",
      "source": "## Objectifs\n- Comprendre les concepts de base de la science des données.\n- Explorer les langages et bibliothèques utilisés.\n- Appliquer des opérations arithmétiques simples dans le code.\n",
      "metadata": {}
    },
    {
      "cell_type": "markdown",
      "source": "## Auteur\nADOGLI JEAN-PAUL\n",
      "metadata": {}
    }
  ]
}